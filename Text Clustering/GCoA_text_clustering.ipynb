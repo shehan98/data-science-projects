{
 "cells": [
  {
   "cell_type": "code",
   "execution_count": 24,
   "id": "12e17415",
   "metadata": {},
   "outputs": [],
   "source": [
    "import numpy as np\n",
    "import pandas as pd\n",
    "import matplotlib.pyplot as plt\n",
    "import seaborn as sns\n",
    "from sklearn.cluster import KMeans"
   ]
  },
  {
   "cell_type": "code",
   "execution_count": 25,
   "id": "5e5879bd",
   "metadata": {},
   "outputs": [],
   "source": [
    "unmatched_transactions = pd.read_csv('unmatched_transactions.csv')"
   ]
  },
  {
   "cell_type": "code",
   "execution_count": 26,
   "id": "b8563f7b",
   "metadata": {},
   "outputs": [
    {
     "data": {
      "text/html": [
       "<div>\n",
       "<style scoped>\n",
       "    .dataframe tbody tr th:only-of-type {\n",
       "        vertical-align: middle;\n",
       "    }\n",
       "\n",
       "    .dataframe tbody tr th {\n",
       "        vertical-align: top;\n",
       "    }\n",
       "\n",
       "    .dataframe thead th {\n",
       "        text-align: right;\n",
       "    }\n",
       "</style>\n",
       "<table border=\"1\" class=\"dataframe\">\n",
       "  <thead>\n",
       "    <tr style=\"text-align: right;\">\n",
       "      <th></th>\n",
       "      <th>amount</th>\n",
       "      <th>company</th>\n",
       "      <th>dc_indicator</th>\n",
       "      <th>document</th>\n",
       "      <th>document_currency_amount</th>\n",
       "      <th>document_currency_key</th>\n",
       "      <th>document_reference</th>\n",
       "      <th>gl</th>\n",
       "      <th>gl_account_description</th>\n",
       "      <th>gl_account_name</th>\n",
       "      <th>gl_updating_amount</th>\n",
       "      <th>item_text</th>\n",
       "      <th>line_number</th>\n",
       "      <th>messages_test</th>\n",
       "      <th>second_local_amount</th>\n",
       "      <th>third_local_amount</th>\n",
       "      <th>vendor</th>\n",
       "    </tr>\n",
       "  </thead>\n",
       "  <tbody>\n",
       "    <tr>\n",
       "      <th>0</th>\n",
       "      <td>1.00</td>\n",
       "      <td>A000</td>\n",
       "      <td>H</td>\n",
       "      <td>1700010014</td>\n",
       "      <td>1.00</td>\n",
       "      <td>USD</td>\n",
       "      <td>CITI-TEST-01</td>\n",
       "      <td>61004060</td>\n",
       "      <td>This account is used to record the freight cha...</td>\n",
       "      <td>Freight inwards charges - Air</td>\n",
       "      <td>1.00</td>\n",
       "      <td>CITI Bank test run</td>\n",
       "      <td>2</td>\n",
       "      <td>citi bank test run account use record freight ...</td>\n",
       "      <td>199.60</td>\n",
       "      <td>1.00</td>\n",
       "      <td>NaN</td>\n",
       "    </tr>\n",
       "    <tr>\n",
       "      <th>1</th>\n",
       "      <td>1.00</td>\n",
       "      <td>A000</td>\n",
       "      <td>H</td>\n",
       "      <td>1900461265</td>\n",
       "      <td>1.00</td>\n",
       "      <td>USD</td>\n",
       "      <td>CITI-TEST-01</td>\n",
       "      <td>34001010</td>\n",
       "      <td>This account is used to record the freight cha...</td>\n",
       "      <td>Freight inwards charges - Air</td>\n",
       "      <td>1.00</td>\n",
       "      <td>CITI Bank test run</td>\n",
       "      <td>1</td>\n",
       "      <td>citi bank test run account use record freight ...</td>\n",
       "      <td>199.60</td>\n",
       "      <td>1.00</td>\n",
       "      <td>304285</td>\n",
       "    </tr>\n",
       "    <tr>\n",
       "      <th>2</th>\n",
       "      <td>1.00</td>\n",
       "      <td>A000</td>\n",
       "      <td>H</td>\n",
       "      <td>1900466104</td>\n",
       "      <td>1.00</td>\n",
       "      <td>USD</td>\n",
       "      <td>CITI-TEST-22</td>\n",
       "      <td>34001010</td>\n",
       "      <td>This account is used to record the freight cha...</td>\n",
       "      <td>Freight inwards charges - Air</td>\n",
       "      <td>1.00</td>\n",
       "      <td>NaN</td>\n",
       "      <td>1</td>\n",
       "      <td>account use record freight charg incur import ...</td>\n",
       "      <td>197.49</td>\n",
       "      <td>1.00</td>\n",
       "      <td>304285</td>\n",
       "    </tr>\n",
       "    <tr>\n",
       "      <th>3</th>\n",
       "      <td>1.00</td>\n",
       "      <td>A000</td>\n",
       "      <td>H</td>\n",
       "      <td>1700010017</td>\n",
       "      <td>1.00</td>\n",
       "      <td>USD</td>\n",
       "      <td>CITI-TEST-22</td>\n",
       "      <td>61004060</td>\n",
       "      <td>This account is used to record the freight cha...</td>\n",
       "      <td>Freight inwards charges - Air</td>\n",
       "      <td>1.00</td>\n",
       "      <td>CITI Bank test run</td>\n",
       "      <td>2</td>\n",
       "      <td>citi bank test run account use record freight ...</td>\n",
       "      <td>197.49</td>\n",
       "      <td>1.00</td>\n",
       "      <td>NaN</td>\n",
       "    </tr>\n",
       "    <tr>\n",
       "      <th>4</th>\n",
       "      <td>961.75</td>\n",
       "      <td>A000</td>\n",
       "      <td>H</td>\n",
       "      <td>1900473664</td>\n",
       "      <td>961.75</td>\n",
       "      <td>USD</td>\n",
       "      <td>CMB8000363</td>\n",
       "      <td>34001010</td>\n",
       "      <td>This account is used to record the freight cha...</td>\n",
       "      <td>Freight inwards charges - Air</td>\n",
       "      <td>961.75</td>\n",
       "      <td>Warehouse Charges - HMSC Mattakkuliya</td>\n",
       "      <td>1</td>\n",
       "      <td>warehous charg hmsc mattakkuliya account use r...</td>\n",
       "      <td>190484.21</td>\n",
       "      <td>961.75</td>\n",
       "      <td>304285</td>\n",
       "    </tr>\n",
       "  </tbody>\n",
       "</table>\n",
       "</div>"
      ],
      "text/plain": [
       "   amount company dc_indicator    document  document_currency_amount  \\\n",
       "0    1.00    A000            H  1700010014                      1.00   \n",
       "1    1.00    A000            H  1900461265                      1.00   \n",
       "2    1.00    A000            H  1900466104                      1.00   \n",
       "3    1.00    A000            H  1700010017                      1.00   \n",
       "4  961.75    A000            H  1900473664                    961.75   \n",
       "\n",
       "  document_currency_key document_reference        gl  \\\n",
       "0                   USD       CITI-TEST-01  61004060   \n",
       "1                   USD       CITI-TEST-01  34001010   \n",
       "2                   USD       CITI-TEST-22  34001010   \n",
       "3                   USD       CITI-TEST-22  61004060   \n",
       "4                   USD         CMB8000363  34001010   \n",
       "\n",
       "                              gl_account_description  \\\n",
       "0  This account is used to record the freight cha...   \n",
       "1  This account is used to record the freight cha...   \n",
       "2  This account is used to record the freight cha...   \n",
       "3  This account is used to record the freight cha...   \n",
       "4  This account is used to record the freight cha...   \n",
       "\n",
       "                 gl_account_name  gl_updating_amount  \\\n",
       "0  Freight inwards charges - Air                1.00   \n",
       "1  Freight inwards charges - Air                1.00   \n",
       "2  Freight inwards charges - Air                1.00   \n",
       "3  Freight inwards charges - Air                1.00   \n",
       "4  Freight inwards charges - Air              961.75   \n",
       "\n",
       "                               item_text  line_number  \\\n",
       "0                     CITI Bank test run            2   \n",
       "1                     CITI Bank test run            1   \n",
       "2                                    NaN            1   \n",
       "3                     CITI Bank test run            2   \n",
       "4  Warehouse Charges - HMSC Mattakkuliya            1   \n",
       "\n",
       "                                       messages_test  second_local_amount  \\\n",
       "0  citi bank test run account use record freight ...               199.60   \n",
       "1  citi bank test run account use record freight ...               199.60   \n",
       "2  account use record freight charg incur import ...               197.49   \n",
       "3  citi bank test run account use record freight ...               197.49   \n",
       "4  warehous charg hmsc mattakkuliya account use r...            190484.21   \n",
       "\n",
       "   third_local_amount  vendor  \n",
       "0                1.00     NaN  \n",
       "1                1.00  304285  \n",
       "2                1.00  304285  \n",
       "3                1.00     NaN  \n",
       "4              961.75  304285  "
      ]
     },
     "execution_count": 26,
     "metadata": {},
     "output_type": "execute_result"
    }
   ],
   "source": [
    "unmatched_transactions.head()"
   ]
  },
  {
   "cell_type": "code",
   "execution_count": 27,
   "id": "92fb2865",
   "metadata": {},
   "outputs": [
    {
     "data": {
      "text/plain": [
       "(9177, 17)"
      ]
     },
     "execution_count": 27,
     "metadata": {},
     "output_type": "execute_result"
    }
   ],
   "source": [
    "unmatched_transactions.shape"
   ]
  },
  {
   "cell_type": "code",
   "execution_count": 28,
   "id": "3e1c2a1f",
   "metadata": {},
   "outputs": [
    {
     "name": "stdout",
     "output_type": "stream",
     "text": [
      "<class 'pandas.core.frame.DataFrame'>\n",
      "RangeIndex: 9177 entries, 0 to 9176\n",
      "Data columns (total 17 columns):\n",
      " #   Column                    Non-Null Count  Dtype  \n",
      "---  ------                    --------------  -----  \n",
      " 0   amount                    9177 non-null   float64\n",
      " 1   company                   9177 non-null   object \n",
      " 2   dc_indicator              9177 non-null   object \n",
      " 3   document                  9177 non-null   int64  \n",
      " 4   document_currency_amount  9177 non-null   float64\n",
      " 5   document_currency_key     9177 non-null   object \n",
      " 6   document_reference        9177 non-null   object \n",
      " 7   gl                        9177 non-null   int64  \n",
      " 8   gl_account_description    9177 non-null   object \n",
      " 9   gl_account_name           9177 non-null   object \n",
      " 10  gl_updating_amount        9177 non-null   float64\n",
      " 11  item_text                 8230 non-null   object \n",
      " 12  line_number               9177 non-null   int64  \n",
      " 13  messages_test             9177 non-null   object \n",
      " 14  second_local_amount       9177 non-null   float64\n",
      " 15  third_local_amount        9177 non-null   float64\n",
      " 16  vendor                    2541 non-null   object \n",
      "dtypes: float64(5), int64(3), object(9)\n",
      "memory usage: 1.2+ MB\n"
     ]
    }
   ],
   "source": [
    "unmatched_transactions.info()"
   ]
  },
  {
   "cell_type": "code",
   "execution_count": 29,
   "id": "78532c73",
   "metadata": {},
   "outputs": [
    {
     "data": {
      "text/plain": [
       "amount                         0\n",
       "company                        0\n",
       "dc_indicator                   0\n",
       "document                       0\n",
       "document_currency_amount       0\n",
       "document_currency_key          0\n",
       "document_reference             0\n",
       "gl                             0\n",
       "gl_account_description         0\n",
       "gl_account_name                0\n",
       "gl_updating_amount             0\n",
       "item_text                    947\n",
       "line_number                    0\n",
       "messages_test                  0\n",
       "second_local_amount            0\n",
       "third_local_amount             0\n",
       "vendor                      6636\n",
       "dtype: int64"
      ]
     },
     "execution_count": 29,
     "metadata": {},
     "output_type": "execute_result"
    }
   ],
   "source": [
    "unmatched_transactions.isnull().sum()"
   ]
  },
  {
   "cell_type": "code",
   "execution_count": 30,
   "id": "7533ec68",
   "metadata": {},
   "outputs": [],
   "source": [
    "dataset1_v1 = unmatched_transactions.iloc[:,[7,8,11,16]].values"
   ]
  },
  {
   "cell_type": "code",
   "execution_count": 31,
   "id": "d0cedd36",
   "metadata": {},
   "outputs": [
    {
     "name": "stdout",
     "output_type": "stream",
     "text": [
      "[[61004060\n",
      "  'This account is used to record the freight charges incurred when importing raw materials for production by air.'\n",
      "  'CITI Bank test run' nan]\n",
      " [34001010\n",
      "  'This account is used to record the freight charges incurred when importing raw materials for production by air.'\n",
      "  'CITI Bank test run' '304285']\n",
      " [34001010\n",
      "  'This account is used to record the freight charges incurred when importing raw materials for production by air.'\n",
      "  nan '304285']\n",
      " ...\n",
      " [61004060\n",
      "  'This account is used to record the freight charges incurred when importing raw materials for production by air.'\n",
      "  'VLL703780' nan]\n",
      " [61004060\n",
      "  'This account is used to record the freight charges incurred when importing raw materials for production by air.'\n",
      "  'VLL703861' nan]\n",
      " [34002020\n",
      "  'This account is used to record the freight charges incurred when importing raw materials for production by air.'\n",
      "  'Credit Note' '304285']]\n"
     ]
    }
   ],
   "source": [
    "print(dataset1_v1)"
   ]
  },
  {
   "cell_type": "code",
   "execution_count": 32,
   "id": "729f3e6b",
   "metadata": {},
   "outputs": [],
   "source": [
    "from sklearn.feature_extraction.text import TfidfVectorizer\n",
    "from sklearn.cluster import KMeans"
   ]
  },
  {
   "cell_type": "code",
   "execution_count": 33,
   "id": "fdda250b",
   "metadata": {},
   "outputs": [],
   "source": [
    "dataset2 = unmatched_transactions['item_text'].values.astype(\"U\")"
   ]
  },
  {
   "cell_type": "code",
   "execution_count": 34,
   "id": "2f4978e2",
   "metadata": {},
   "outputs": [],
   "source": [
    "vectorizer = TfidfVectorizer(stop_words='english')\n",
    "features = vectorizer.fit_transform(dataset2)"
   ]
  },
  {
   "cell_type": "code",
   "execution_count": 35,
   "id": "1f05b111",
   "metadata": {},
   "outputs": [
    {
     "data": {
      "image/png": "[encoded data removed]",
      "text/plain": [
       "<Figure size 432x288 with 1 Axes>"
      ]
     },
     "metadata": {
      "needs_background": "light"
     },
     "output_type": "display_data"
    }
   ],
   "source": [
    "import matplotlib.pyplot as plt\n",
    "Sum_of_squared_distances = []\n",
    "K = range(1,20)\n",
    "for num_clusters in K :\n",
    "    kmeans = KMeans(n_clusters=num_clusters)\n",
    "    kmeans.fit(features)\n",
    "    Sum_of_squared_distances.append(kmeans.inertia_)\n",
    "plt.plot(K,Sum_of_squared_distances,'bx-')\n",
    "plt.xlabel('Values of K') \n",
    "plt.ylabel('Sum of squared distances/Inertia') \n",
    "plt.title('Elbow Method For Optimal k')\n",
    "plt.show()"
   ]
  },
  {
   "cell_type": "code",
   "execution_count": 36,
   "id": "b3626864",
   "metadata": {},
   "outputs": [
    {
     "data": {
      "text/plain": [
       "0.7359760076759718"
      ]
     },
     "execution_count": 36,
     "metadata": {},
     "output_type": "execute_result"
    }
   ],
   "source": [
    "from sklearn.metrics import silhouette_score\n",
    "silhouette_score(features, kmeans.labels_)"
   ]
  },
  {
   "cell_type": "code",
   "execution_count": 37,
   "id": "d1f41154",
   "metadata": {},
   "outputs": [
    {
     "data": {
      "text/plain": [
       "[0.2139909595259671,\n",
       " 0.3216499816930453,\n",
       " 0.412531864330293,\n",
       " 0.514277782647361,\n",
       " 0.5798447863487449,\n",
       " 0.5844190673673825,\n",
       " 0.6100842940589184,\n",
       " 0.6289383443882007,\n",
       " 0.6493264836524142,\n",
       " 0.6659546481615205,\n",
       " 0.6606145251486853,\n",
       " 0.6832319022577676,\n",
       " 0.6917885081152101,\n",
       " 0.6930435619300807,\n",
       " 0.7147802743883366,\n",
       " 0.716007761062708,\n",
       " 0.72774519428315,\n",
       " 0.7328041246859213,\n",
       " 0.7419664523395647,\n",
       " 0.7482673136942362,\n",
       " 0.7521003324887721,\n",
       " 0.7337214402970932,\n",
       " 0.7566008708962071,\n",
       " 0.7707194321642824,\n",
       " 0.7669197813703796,\n",
       " 0.7657143115222838,\n",
       " 0.7754044447047453,\n",
       " 0.774273082649117]"
      ]
     },
     "execution_count": 37,
     "metadata": {},
     "output_type": "execute_result"
    }
   ],
   "source": [
    "\n",
    "kmeans_per_k = [KMeans(n_clusters=k, random_state=42).fit(features) for k in range(1,30)]\n",
    "\n",
    "silhouette_scores = [silhouette_score(features, model.labels_)\n",
    "                    for model in kmeans_per_k[1:]]\n",
    "silhouette_scores"
   ]
  },
  {
   "cell_type": "code",
   "execution_count": 38,
   "id": "37daf8ec",
   "metadata": {},
   "outputs": [
    {
     "name": "stdout",
     "output_type": "stream",
     "text": [
      "0.7754044447047453\n",
      "26\n"
     ]
    }
   ],
   "source": [
    "max_value = max(silhouette_scores)\n",
    "max_index = silhouette_scores.index(max_value)\n",
    "\n",
    "print(max_value)\n",
    "print(max_index)"
   ]
  },
  {
   "cell_type": "code",
   "execution_count": 39,
   "id": "fd2de41f",
   "metadata": {},
   "outputs": [],
   "source": [
    "k = max_index + 2"
   ]
  },
  {
   "cell_type": "code",
   "execution_count": null,
   "id": "0298f64d",
   "metadata": {},
   "outputs": [],
   "source": []
  },
  {
   "cell_type": "code",
   "execution_count": 40,
   "id": "b9a43cb7",
   "metadata": {},
   "outputs": [
    {
     "data": {
      "text/plain": [
       "KMeans(max_iter=100, n_clusters=28, n_init=1)"
      ]
     },
     "execution_count": 40,
     "metadata": {},
     "output_type": "execute_result"
    }
   ],
   "source": [
    "model = KMeans(n_clusters=k, init='k-means++', max_iter=100, n_init=1)\n",
    "model.fit(features)"
   ]
  },
  {
   "cell_type": "code",
   "execution_count": 41,
   "id": "8ae40728",
   "metadata": {},
   "outputs": [],
   "source": [
    "unmatched_transactions['cluster'] = model.labels_"
   ]
  },
  {
   "cell_type": "code",
   "execution_count": 28,
   "id": "fe39a669",
   "metadata": {},
   "outputs": [],
   "source": [
    "unmatched_transactions.to_csv('data_cluster_list.csv')"
   ]
  },
  {
   "cell_type": "code",
   "execution_count": 24,
   "id": "52a30595",
   "metadata": {},
   "outputs": [],
   "source": [
    "# output the result to a text file\n",
    "\n",
    "clusters = unmatched_transactions.groupby('cluster')\n",
    "\n",
    "for cluster in clusters.groups:\n",
    "    f = open('cluster'+str(cluster)+ '.csv', 'w') # create csv file\n",
    "    data = clusters.get_group(cluster)[['gl','gl_account_description','item_text','vendor']] #get selected columns\n",
    "    f.write(data.to_csv(index_label='id')) # set index to id\n",
    "    f.close()"
   ]
  },
  {
   "cell_type": "code",
   "execution_count": 23,
   "id": "e177cb78",
   "metadata": {},
   "outputs": [
    {
     "name": "stdout",
     "output_type": "stream",
     "text": [
      "Cluster centroids: \n",
      "\n",
      "Cluster 0:\n",
      " non\n",
      " cof\n",
      " ref\n",
      " gon07100116\n",
      " hk\n",
      " hartrodt\n",
      " hangzhou\n",
      " hang\n",
      " handling\n",
      " han\n",
      "----------------\n",
      "Cluster 1:\n",
      " wht\n",
      " glx\n",
      " zrh35053915\n",
      " gon07100098\n",
      " hk\n",
      " hartrodt\n",
      " hangzhou\n",
      " hang\n",
      " handling\n",
      " han\n",
      "----------------\n",
      "Cluster 2:\n",
      " nan\n",
      " gon07100116\n",
      " hmsc\n",
      " hk\n",
      " hartrodt\n",
      " hangzhou\n",
      " hang\n",
      " handling\n",
      " han\n",
      " half\n",
      "----------------\n",
      "Cluster 3:\n",
      " import\n",
      " zrh35053915\n",
      " gon07100098\n",
      " hk\n",
      " hartrodt\n",
      " hangzhou\n",
      " hang\n",
      " handling\n",
      " han\n",
      " half\n",
      "----------------\n",
      "Cluster 4:\n",
      " impor\n",
      " zrh35053915\n",
      " gon07100098\n",
      " hk\n",
      " hartrodt\n",
      " hangzhou\n",
      " hang\n",
      " handling\n",
      " han\n",
      " half\n",
      "----------------\n",
      "Cluster 5:\n",
      " ref\n",
      " zrh35053915\n",
      " gon07100098\n",
      " hk\n",
      " hartrodt\n",
      " hangzhou\n",
      " hang\n",
      " handling\n",
      " han\n",
      " half\n",
      "----------------\n",
      "Cluster 6:\n",
      " vat\n",
      " glx\n",
      " zrh35053915\n",
      " hk\n",
      " hartrodt\n",
      " hangzhou\n",
      " hang\n",
      " handling\n",
      " han\n",
      " half\n",
      "----------------\n",
      "Cluster 7:\n",
      " imp2020\n",
      " s1\n",
      " 26\n",
      " 27\n",
      " import\n",
      " 28\n",
      " zrh35053915\n",
      " goods\n",
      " hmsc\n",
      " hk\n",
      "----------------\n",
      "Cluster 8:\n",
      " crgs\n",
      " forwarder\n",
      " import\n",
      " purpose\n",
      " courier\n",
      " ksr\n",
      " hartrodt\n",
      " everest\n",
      " panah\n",
      " perdana\n",
      "----------------\n",
      "Cluster 9:\n",
      " imp2021\n",
      " s2\n",
      " import\n",
      " 01\n",
      " s1\n",
      " 15\n",
      " 14\n",
      " 02\n",
      " imp2020\n",
      " impdgl2021\n",
      "----------------\n",
      "Cluster 10:\n",
      " duty\n",
      " charges\n",
      " courier\n",
      " zrh35053915\n",
      " gon07100116\n",
      " hk\n",
      " hartrodt\n",
      " hangzhou\n",
      " hang\n",
      " handling\n",
      "----------------\n",
      "Cluster 11:\n",
      " note\n",
      " credit\n",
      " received\n",
      " expo\n",
      " e5h0110217\n",
      " freight\n",
      " bills\n",
      " cancelled\n",
      " hartrodt\n",
      " hk\n",
      "----------------\n",
      "Cluster 12:\n",
      " imp202\n",
      " s1\n",
      " 05\n",
      " 04\n",
      " 06\n",
      " 02\n",
      " 07\n",
      " 03\n",
      " s2\n",
      " handling\n",
      "----------------\n",
      "Cluster 13:\n",
      " inbound\n",
      " charges\n",
      " courier\n",
      " gmt\n",
      " hartrodt\n",
      " hangzhou\n",
      " hang\n",
      " handling\n",
      " han\n",
      " half\n",
      "----------------\n",
      "Cluster 14:\n",
      " cost\n",
      " imp\n",
      " freight\n",
      " handling\n",
      " zrh35053915\n",
      " gon07100116\n",
      " hk\n",
      " hartrodt\n",
      " hangzhou\n",
      " hang\n",
      "----------------\n",
      "Cluster 15:\n",
      " settlement\n",
      " 34\n",
      " k25\n",
      " 32\n",
      " 30\n",
      " 33\n",
      " k26\n",
      " 35\n",
      " 31\n",
      " 14\n",
      "----------------\n",
      "Cluster 16:\n",
      " dgl\n",
      " imp\n",
      " wht\n",
      " lanka\n",
      " vat\n",
      " texprint\n",
      " trischel\n",
      " strechline\n",
      " unichela\n",
      " ocean\n",
      "----------------\n",
      "Cluster 17:\n",
      " freight\n",
      " import\n",
      " expo\n",
      " purpose\n",
      " chargers\n",
      " pink\n",
      " exp\n",
      " charges\n",
      " provision\n",
      " feight\n",
      "----------------\n",
      "Cluster 18:\n",
      " 29\n",
      " 2020\n",
      " s1\n",
      " imp\n",
      " imp2020\n",
      " zrh35053915\n",
      " gon07100208\n",
      " hk\n",
      " hartrodt\n",
      " hangzhou\n",
      "----------------\n"
     ]
    }
   ],
   "source": [
    "print(\"Cluster centroids: \\n\")\n",
    "order_centroids = model.cluster_centers_.argsort()[:, ::-1]\n",
    "terms = vectorizer.get_feature_names()\n",
    "\n",
    "for i in range(k):\n",
    "    print(\"Cluster %d:\" % i)\n",
    "    for j in order_centroids[i, :10]: #print out 10 feature terms of each cluster\n",
    "        print (' %s' % terms[j])\n",
    "    print('----------------')"
   ]
  },
  {
   "cell_type": "code",
   "execution_count": null,
   "id": "9cadb15f",
   "metadata": {},
   "outputs": [],
   "source": []
  },
  {
   "cell_type": "code",
   "execution_count": null,
   "id": "71d193c7",
   "metadata": {},
   "outputs": [],
   "source": []
  },
  {
   "cell_type": "code",
   "execution_count": null,
   "id": "2cc225ed",
   "metadata": {},
   "outputs": [],
   "source": []
  },
  {
   "cell_type": "code",
   "execution_count": null,
   "id": "1eec7ff7",
   "metadata": {},
   "outputs": [],
   "source": []
  }
 ],
 "metadata": {
  "kernelspec": {
   "display_name": "Python 3",
   "language": "python",
   "name": "python3"
  },
  "language_info": {
   "codemirror_mode": {
    "name": "ipython",
    "version": 3
   },
   "file_extension": ".py",
   "mimetype": "text/x-python",
   "name": "python",
   "nbconvert_exporter": "python",
   "pygments_lexer": "ipython3",
   "version": "3.8.8"
  }
 },
 "nbformat": 4,
 "nbformat_minor": 5
}
