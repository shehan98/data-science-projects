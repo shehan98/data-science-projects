{
 "cells": [
  {
   "cell_type": "code",
   "execution_count": 1,
   "id": "c1b09370",
   "metadata": {},
   "outputs": [],
   "source": [
    "import numpy as np\n",
    "import pandas as pd\n",
    "df = pd.read_csv('References.csv')"
   ]
  },
  {
   "cell_type": "code",
   "execution_count": 2,
   "id": "18a05e5e",
   "metadata": {},
   "outputs": [
    {
     "data": {
      "text/html": [
       "<div>\n",
       "<style scoped>\n",
       "    .dataframe tbody tr th:only-of-type {\n",
       "        vertical-align: middle;\n",
       "    }\n",
       "\n",
       "    .dataframe tbody tr th {\n",
       "        vertical-align: top;\n",
       "    }\n",
       "\n",
       "    .dataframe thead th {\n",
       "        text-align: right;\n",
       "    }\n",
       "</style>\n",
       "<table border=\"1\" class=\"dataframe\">\n",
       "  <thead>\n",
       "    <tr style=\"text-align: right;\">\n",
       "      <th></th>\n",
       "      <th>Reference_I</th>\n",
       "      <th>Reference_GR</th>\n",
       "      <th>Cluster_Id</th>\n",
       "    </tr>\n",
       "  </thead>\n",
       "  <tbody>\n",
       "    <tr>\n",
       "      <th>0</th>\n",
       "      <td>5941034</td>\n",
       "      <td>1330991508</td>\n",
       "      <td>7.0</td>\n",
       "    </tr>\n",
       "    <tr>\n",
       "      <th>1</th>\n",
       "      <td>5940576</td>\n",
       "      <td>1330991512</td>\n",
       "      <td>7.0</td>\n",
       "    </tr>\n",
       "    <tr>\n",
       "      <th>2</th>\n",
       "      <td>5940581</td>\n",
       "      <td>1330991506</td>\n",
       "      <td>7.0</td>\n",
       "    </tr>\n",
       "    <tr>\n",
       "      <th>3</th>\n",
       "      <td>5941032</td>\n",
       "      <td>1330991507</td>\n",
       "      <td>7.0</td>\n",
       "    </tr>\n",
       "    <tr>\n",
       "      <th>4</th>\n",
       "      <td>5941040</td>\n",
       "      <td>1330991510</td>\n",
       "      <td>7.0</td>\n",
       "    </tr>\n",
       "    <tr>\n",
       "      <th>...</th>\n",
       "      <td>...</td>\n",
       "      <td>...</td>\n",
       "      <td>...</td>\n",
       "    </tr>\n",
       "    <tr>\n",
       "      <th>3995</th>\n",
       "      <td>IV2109017</td>\n",
       "      <td>IV2109017</td>\n",
       "      <td>1.0</td>\n",
       "    </tr>\n",
       "    <tr>\n",
       "      <th>3996</th>\n",
       "      <td>IV2109017</td>\n",
       "      <td>IV2109017</td>\n",
       "      <td>1.0</td>\n",
       "    </tr>\n",
       "    <tr>\n",
       "      <th>3997</th>\n",
       "      <td>IV2109017</td>\n",
       "      <td>IV2109017</td>\n",
       "      <td>1.0</td>\n",
       "    </tr>\n",
       "    <tr>\n",
       "      <th>3998</th>\n",
       "      <td>IV2109019</td>\n",
       "      <td>IV2109019</td>\n",
       "      <td>1.0</td>\n",
       "    </tr>\n",
       "    <tr>\n",
       "      <th>3999</th>\n",
       "      <td>IV2109042</td>\n",
       "      <td>IV2109042</td>\n",
       "      <td>1.0</td>\n",
       "    </tr>\n",
       "  </tbody>\n",
       "</table>\n",
       "<p>4000 rows × 3 columns</p>\n",
       "</div>"
      ],
      "text/plain": [
       "     Reference_I Reference_GR  Cluster_Id\n",
       "0        5941034   1330991508         7.0\n",
       "1        5940576   1330991512         7.0\n",
       "2        5940581   1330991506         7.0\n",
       "3        5941032   1330991507         7.0\n",
       "4        5941040   1330991510         7.0\n",
       "...          ...          ...         ...\n",
       "3995   IV2109017    IV2109017         1.0\n",
       "3996   IV2109017    IV2109017         1.0\n",
       "3997   IV2109017    IV2109017         1.0\n",
       "3998   IV2109019    IV2109019         1.0\n",
       "3999   IV2109042    IV2109042         1.0\n",
       "\n",
       "[4000 rows x 3 columns]"
      ]
     },
     "execution_count": 2,
     "metadata": {},
     "output_type": "execute_result"
    }
   ],
   "source": [
    "df"
   ]
  },
  {
   "cell_type": "code",
   "execution_count": 3,
   "id": "76ade044",
   "metadata": {},
   "outputs": [
    {
     "data": {
      "text/plain": [
       "Reference_I      0\n",
       "Reference_GR     0\n",
       "Cluster_Id      25\n",
       "dtype: int64"
      ]
     },
     "execution_count": 3,
     "metadata": {},
     "output_type": "execute_result"
    }
   ],
   "source": [
    "df.isnull().sum()"
   ]
  },
  {
   "cell_type": "code",
   "execution_count": 4,
   "id": "cc65a86d",
   "metadata": {},
   "outputs": [],
   "source": [
    "df = df.dropna()"
   ]
  },
  {
   "cell_type": "code",
   "execution_count": 5,
   "id": "78ec77ec",
   "metadata": {},
   "outputs": [
    {
     "data": {
      "text/plain": [
       "pandas.core.frame.DataFrame"
      ]
     },
     "execution_count": 5,
     "metadata": {},
     "output_type": "execute_result"
    }
   ],
   "source": [
    "type(df)"
   ]
  },
  {
   "cell_type": "code",
   "execution_count": 6,
   "id": "406ae8e7",
   "metadata": {},
   "outputs": [],
   "source": [
    "df=df.iloc[:,:].values"
   ]
  },
  {
   "cell_type": "code",
   "execution_count": 7,
   "id": "9be6cb6c",
   "metadata": {},
   "outputs": [
    {
     "data": {
      "text/plain": [
       "array([['5941034', '1330991508', 7.0],\n",
       "       ['5940576', '1330991512', 7.0],\n",
       "       ['5940581', '1330991506', 7.0],\n",
       "       ...,\n",
       "       ['IV2109017', 'IV2109017', 1.0],\n",
       "       ['IV2109019', 'IV2109019', 1.0],\n",
       "       ['IV2109042', 'IV2109042', 1.0]], dtype=object)"
      ]
     },
     "execution_count": 7,
     "metadata": {},
     "output_type": "execute_result"
    }
   ],
   "source": [
    "df"
   ]
  },
  {
   "cell_type": "code",
   "execution_count": 8,
   "id": "afa192aa",
   "metadata": {},
   "outputs": [],
   "source": [
    "from sklearn.preprocessing import LabelEncoder"
   ]
  },
  {
   "cell_type": "code",
   "execution_count": 9,
   "id": "62128d29",
   "metadata": {},
   "outputs": [],
   "source": [
    "le = LabelEncoder()"
   ]
  },
  {
   "cell_type": "code",
   "execution_count": 10,
   "id": "5e0189cb",
   "metadata": {},
   "outputs": [],
   "source": [
    "df[:,0] = le.fit_transform(df[:,0])"
   ]
  },
  {
   "cell_type": "code",
   "execution_count": 11,
   "id": "ff0a31d1",
   "metadata": {},
   "outputs": [],
   "source": [
    "df[:,1] = le.fit_transform(df[:,1])"
   ]
  },
  {
   "cell_type": "code",
   "execution_count": 12,
   "id": "b9ecdf8f",
   "metadata": {},
   "outputs": [
    {
     "data": {
      "text/plain": [
       "array([[1770, 989, 7.0],\n",
       "       [1766, 993, 7.0],\n",
       "       [1768, 987, 7.0],\n",
       "       ...,\n",
       "       [2407, 2489, 1.0],\n",
       "       [2409, 2491, 1.0],\n",
       "       [2414, 2496, 1.0]], dtype=object)"
      ]
     },
     "execution_count": 12,
     "metadata": {},
     "output_type": "execute_result"
    }
   ],
   "source": [
    "df"
   ]
  },
  {
   "cell_type": "code",
   "execution_count": 13,
   "id": "ed6c7c8b",
   "metadata": {},
   "outputs": [
    {
     "data": {
      "text/html": [
       "<div>\n",
       "<style scoped>\n",
       "    .dataframe tbody tr th:only-of-type {\n",
       "        vertical-align: middle;\n",
       "    }\n",
       "\n",
       "    .dataframe tbody tr th {\n",
       "        vertical-align: top;\n",
       "    }\n",
       "\n",
       "    .dataframe thead th {\n",
       "        text-align: right;\n",
       "    }\n",
       "</style>\n",
       "<table border=\"1\" class=\"dataframe\">\n",
       "  <thead>\n",
       "    <tr style=\"text-align: right;\">\n",
       "      <th></th>\n",
       "      <th>0</th>\n",
       "      <th>1</th>\n",
       "      <th>2</th>\n",
       "    </tr>\n",
       "  </thead>\n",
       "  <tbody>\n",
       "    <tr>\n",
       "      <th>0</th>\n",
       "      <td>1770</td>\n",
       "      <td>989</td>\n",
       "      <td>7.0</td>\n",
       "    </tr>\n",
       "    <tr>\n",
       "      <th>1</th>\n",
       "      <td>1766</td>\n",
       "      <td>993</td>\n",
       "      <td>7.0</td>\n",
       "    </tr>\n",
       "    <tr>\n",
       "      <th>2</th>\n",
       "      <td>1768</td>\n",
       "      <td>987</td>\n",
       "      <td>7.0</td>\n",
       "    </tr>\n",
       "    <tr>\n",
       "      <th>3</th>\n",
       "      <td>1769</td>\n",
       "      <td>988</td>\n",
       "      <td>7.0</td>\n",
       "    </tr>\n",
       "    <tr>\n",
       "      <th>4</th>\n",
       "      <td>1772</td>\n",
       "      <td>991</td>\n",
       "      <td>7.0</td>\n",
       "    </tr>\n",
       "    <tr>\n",
       "      <th>...</th>\n",
       "      <td>...</td>\n",
       "      <td>...</td>\n",
       "      <td>...</td>\n",
       "    </tr>\n",
       "    <tr>\n",
       "      <th>3970</th>\n",
       "      <td>2407</td>\n",
       "      <td>2489</td>\n",
       "      <td>1.0</td>\n",
       "    </tr>\n",
       "    <tr>\n",
       "      <th>3971</th>\n",
       "      <td>2407</td>\n",
       "      <td>2489</td>\n",
       "      <td>1.0</td>\n",
       "    </tr>\n",
       "    <tr>\n",
       "      <th>3972</th>\n",
       "      <td>2407</td>\n",
       "      <td>2489</td>\n",
       "      <td>1.0</td>\n",
       "    </tr>\n",
       "    <tr>\n",
       "      <th>3973</th>\n",
       "      <td>2409</td>\n",
       "      <td>2491</td>\n",
       "      <td>1.0</td>\n",
       "    </tr>\n",
       "    <tr>\n",
       "      <th>3974</th>\n",
       "      <td>2414</td>\n",
       "      <td>2496</td>\n",
       "      <td>1.0</td>\n",
       "    </tr>\n",
       "  </tbody>\n",
       "</table>\n",
       "<p>3975 rows × 3 columns</p>\n",
       "</div>"
      ],
      "text/plain": [
       "         0     1    2\n",
       "0     1770   989  7.0\n",
       "1     1766   993  7.0\n",
       "2     1768   987  7.0\n",
       "3     1769   988  7.0\n",
       "4     1772   991  7.0\n",
       "...    ...   ...  ...\n",
       "3970  2407  2489  1.0\n",
       "3971  2407  2489  1.0\n",
       "3972  2407  2489  1.0\n",
       "3973  2409  2491  1.0\n",
       "3974  2414  2496  1.0\n",
       "\n",
       "[3975 rows x 3 columns]"
      ]
     },
     "execution_count": 13,
     "metadata": {},
     "output_type": "execute_result"
    }
   ],
   "source": [
    "df1=pd.DataFrame(df)\n",
    "df1"
   ]
  },
  {
   "cell_type": "code",
   "execution_count": 14,
   "id": "e2c86a7a",
   "metadata": {},
   "outputs": [],
   "source": [
    "df1= df1.rename(columns = {0:'Reference_I',1:'Reference_GR',2:'Cluster_Id'})"
   ]
  },
  {
   "cell_type": "code",
   "execution_count": 15,
   "id": "f2a3d214",
   "metadata": {},
   "outputs": [
    {
     "data": {
      "text/html": [
       "<div>\n",
       "<style scoped>\n",
       "    .dataframe tbody tr th:only-of-type {\n",
       "        vertical-align: middle;\n",
       "    }\n",
       "\n",
       "    .dataframe tbody tr th {\n",
       "        vertical-align: top;\n",
       "    }\n",
       "\n",
       "    .dataframe thead th {\n",
       "        text-align: right;\n",
       "    }\n",
       "</style>\n",
       "<table border=\"1\" class=\"dataframe\">\n",
       "  <thead>\n",
       "    <tr style=\"text-align: right;\">\n",
       "      <th></th>\n",
       "      <th>Reference_I</th>\n",
       "      <th>Reference_GR</th>\n",
       "      <th>Cluster_Id</th>\n",
       "    </tr>\n",
       "  </thead>\n",
       "  <tbody>\n",
       "    <tr>\n",
       "      <th>0</th>\n",
       "      <td>1770</td>\n",
       "      <td>989</td>\n",
       "      <td>7.0</td>\n",
       "    </tr>\n",
       "    <tr>\n",
       "      <th>1</th>\n",
       "      <td>1766</td>\n",
       "      <td>993</td>\n",
       "      <td>7.0</td>\n",
       "    </tr>\n",
       "    <tr>\n",
       "      <th>2</th>\n",
       "      <td>1768</td>\n",
       "      <td>987</td>\n",
       "      <td>7.0</td>\n",
       "    </tr>\n",
       "    <tr>\n",
       "      <th>3</th>\n",
       "      <td>1769</td>\n",
       "      <td>988</td>\n",
       "      <td>7.0</td>\n",
       "    </tr>\n",
       "    <tr>\n",
       "      <th>4</th>\n",
       "      <td>1772</td>\n",
       "      <td>991</td>\n",
       "      <td>7.0</td>\n",
       "    </tr>\n",
       "    <tr>\n",
       "      <th>...</th>\n",
       "      <td>...</td>\n",
       "      <td>...</td>\n",
       "      <td>...</td>\n",
       "    </tr>\n",
       "    <tr>\n",
       "      <th>3970</th>\n",
       "      <td>2407</td>\n",
       "      <td>2489</td>\n",
       "      <td>1.0</td>\n",
       "    </tr>\n",
       "    <tr>\n",
       "      <th>3971</th>\n",
       "      <td>2407</td>\n",
       "      <td>2489</td>\n",
       "      <td>1.0</td>\n",
       "    </tr>\n",
       "    <tr>\n",
       "      <th>3972</th>\n",
       "      <td>2407</td>\n",
       "      <td>2489</td>\n",
       "      <td>1.0</td>\n",
       "    </tr>\n",
       "    <tr>\n",
       "      <th>3973</th>\n",
       "      <td>2409</td>\n",
       "      <td>2491</td>\n",
       "      <td>1.0</td>\n",
       "    </tr>\n",
       "    <tr>\n",
       "      <th>3974</th>\n",
       "      <td>2414</td>\n",
       "      <td>2496</td>\n",
       "      <td>1.0</td>\n",
       "    </tr>\n",
       "  </tbody>\n",
       "</table>\n",
       "<p>3975 rows × 3 columns</p>\n",
       "</div>"
      ],
      "text/plain": [
       "     Reference_I Reference_GR Cluster_Id\n",
       "0           1770          989        7.0\n",
       "1           1766          993        7.0\n",
       "2           1768          987        7.0\n",
       "3           1769          988        7.0\n",
       "4           1772          991        7.0\n",
       "...          ...          ...        ...\n",
       "3970        2407         2489        1.0\n",
       "3971        2407         2489        1.0\n",
       "3972        2407         2489        1.0\n",
       "3973        2409         2491        1.0\n",
       "3974        2414         2496        1.0\n",
       "\n",
       "[3975 rows x 3 columns]"
      ]
     },
     "execution_count": 15,
     "metadata": {},
     "output_type": "execute_result"
    }
   ],
   "source": [
    "df1"
   ]
  },
  {
   "cell_type": "code",
   "execution_count": 16,
   "id": "58e08960",
   "metadata": {},
   "outputs": [],
   "source": [
    "df_X = df1.drop('Cluster_Id',axis=1)"
   ]
  },
  {
   "cell_type": "code",
   "execution_count": 17,
   "id": "28ceb422",
   "metadata": {},
   "outputs": [],
   "source": [
    "df_Y = df1['Cluster_Id']"
   ]
  },
  {
   "cell_type": "code",
   "execution_count": 18,
   "id": "a3450cde",
   "metadata": {},
   "outputs": [],
   "source": [
    "df_Y = df_Y.astype('int')"
   ]
  },
  {
   "cell_type": "code",
   "execution_count": 19,
   "id": "119eaf45",
   "metadata": {},
   "outputs": [
    {
     "ename": "NameError",
     "evalue": "name 'train_test_split' is not defined",
     "output_type": "error",
     "traceback": [
      "\u001b[1;31m---------------------------------------------------------------------------\u001b[0m",
      "\u001b[1;31mNameError\u001b[0m                                 Traceback (most recent call last)",
      "\u001b[1;32m<ipython-input-19-7b41a76d1a6f>\u001b[0m in \u001b[0;36m<module>\u001b[1;34m\u001b[0m\n\u001b[1;32m----> 1\u001b[1;33m \u001b[0mX_train\u001b[0m\u001b[1;33m,\u001b[0m\u001b[0mX_test\u001b[0m\u001b[1;33m,\u001b[0m\u001b[0mY_train\u001b[0m\u001b[1;33m,\u001b[0m\u001b[0mY_test\u001b[0m\u001b[1;33m=\u001b[0m\u001b[0mtrain_test_split\u001b[0m\u001b[1;33m(\u001b[0m\u001b[0mdf_X\u001b[0m\u001b[1;33m,\u001b[0m\u001b[0mdf_Y\u001b[0m\u001b[1;33m,\u001b[0m\u001b[0mtest_size\u001b[0m\u001b[1;33m=\u001b[0m\u001b[1;36m0.2\u001b[0m\u001b[1;33m,\u001b[0m\u001b[0mrandom_state\u001b[0m\u001b[1;33m=\u001b[0m\u001b[1;36m1\u001b[0m\u001b[1;33m)\u001b[0m\u001b[1;33m\u001b[0m\u001b[1;33m\u001b[0m\u001b[0m\n\u001b[0m",
      "\u001b[1;31mNameError\u001b[0m: name 'train_test_split' is not defined"
     ]
    }
   ],
   "source": [
    "X_train,X_test,Y_train,Y_test=train_test_split(df_X,df_Y,test_size=0.2,random_state=1)"
   ]
  },
  {
   "cell_type": "code",
   "execution_count": 229,
   "id": "afd199a1",
   "metadata": {},
   "outputs": [],
   "source": [
    "# DECISION TREE:\n",
    "from sklearn.tree import DecisionTreeClassifier\n",
    "dtc=DecisionTreeClassifier()"
   ]
  },
  {
   "cell_type": "code",
   "execution_count": 230,
   "id": "cbb60ab1",
   "metadata": {},
   "outputs": [
    {
     "data": {
      "text/html": [
       "<div>\n",
       "<style scoped>\n",
       "    .dataframe tbody tr th:only-of-type {\n",
       "        vertical-align: middle;\n",
       "    }\n",
       "\n",
       "    .dataframe tbody tr th {\n",
       "        vertical-align: top;\n",
       "    }\n",
       "\n",
       "    .dataframe thead th {\n",
       "        text-align: right;\n",
       "    }\n",
       "</style>\n",
       "<table border=\"1\" class=\"dataframe\">\n",
       "  <thead>\n",
       "    <tr style=\"text-align: right;\">\n",
       "      <th></th>\n",
       "      <th>Reference_I</th>\n",
       "      <th>Reference_GR</th>\n",
       "    </tr>\n",
       "  </thead>\n",
       "  <tbody>\n",
       "    <tr>\n",
       "      <th>3788</th>\n",
       "      <td>399</td>\n",
       "      <td>380</td>\n",
       "    </tr>\n",
       "    <tr>\n",
       "      <th>984</th>\n",
       "      <td>927</td>\n",
       "      <td>970</td>\n",
       "    </tr>\n",
       "    <tr>\n",
       "      <th>1848</th>\n",
       "      <td>2582</td>\n",
       "      <td>2659</td>\n",
       "    </tr>\n",
       "    <tr>\n",
       "      <th>3330</th>\n",
       "      <td>1697</td>\n",
       "      <td>1992</td>\n",
       "    </tr>\n",
       "    <tr>\n",
       "      <th>2253</th>\n",
       "      <td>1988</td>\n",
       "      <td>2146</td>\n",
       "    </tr>\n",
       "    <tr>\n",
       "      <th>...</th>\n",
       "      <td>...</td>\n",
       "      <td>...</td>\n",
       "    </tr>\n",
       "    <tr>\n",
       "      <th>905</th>\n",
       "      <td>779</td>\n",
       "      <td>822</td>\n",
       "    </tr>\n",
       "    <tr>\n",
       "      <th>3839</th>\n",
       "      <td>514</td>\n",
       "      <td>495</td>\n",
       "    </tr>\n",
       "    <tr>\n",
       "      <th>1096</th>\n",
       "      <td>775</td>\n",
       "      <td>818</td>\n",
       "    </tr>\n",
       "    <tr>\n",
       "      <th>235</th>\n",
       "      <td>990</td>\n",
       "      <td>1815</td>\n",
       "    </tr>\n",
       "    <tr>\n",
       "      <th>1061</th>\n",
       "      <td>846</td>\n",
       "      <td>889</td>\n",
       "    </tr>\n",
       "  </tbody>\n",
       "</table>\n",
       "<p>3180 rows × 2 columns</p>\n",
       "</div>"
      ],
      "text/plain": [
       "     Reference_I Reference_GR\n",
       "3788         399          380\n",
       "984          927          970\n",
       "1848        2582         2659\n",
       "3330        1697         1992\n",
       "2253        1988         2146\n",
       "...          ...          ...\n",
       "905          779          822\n",
       "3839         514          495\n",
       "1096         775          818\n",
       "235          990         1815\n",
       "1061         846          889\n",
       "\n",
       "[3180 rows x 2 columns]"
      ]
     },
     "execution_count": 230,
     "metadata": {},
     "output_type": "execute_result"
    }
   ],
   "source": [
    "X_train"
   ]
  },
  {
   "cell_type": "code",
   "execution_count": 231,
   "id": "6f5f367f",
   "metadata": {},
   "outputs": [
    {
     "data": {
      "text/html": [
       "<div>\n",
       "<style scoped>\n",
       "    .dataframe tbody tr th:only-of-type {\n",
       "        vertical-align: middle;\n",
       "    }\n",
       "\n",
       "    .dataframe tbody tr th {\n",
       "        vertical-align: top;\n",
       "    }\n",
       "\n",
       "    .dataframe thead th {\n",
       "        text-align: right;\n",
       "    }\n",
       "</style>\n",
       "<table border=\"1\" class=\"dataframe\">\n",
       "  <thead>\n",
       "    <tr style=\"text-align: right;\">\n",
       "      <th></th>\n",
       "      <th>Reference_I</th>\n",
       "      <th>Reference_GR</th>\n",
       "    </tr>\n",
       "  </thead>\n",
       "  <tbody>\n",
       "    <tr>\n",
       "      <th>3762</th>\n",
       "      <td>2846</td>\n",
       "      <td>2918</td>\n",
       "    </tr>\n",
       "    <tr>\n",
       "      <th>953</th>\n",
       "      <td>727</td>\n",
       "      <td>771</td>\n",
       "    </tr>\n",
       "    <tr>\n",
       "      <th>1881</th>\n",
       "      <td>2533</td>\n",
       "      <td>2611</td>\n",
       "    </tr>\n",
       "    <tr>\n",
       "      <th>1751</th>\n",
       "      <td>2253</td>\n",
       "      <td>2338</td>\n",
       "    </tr>\n",
       "    <tr>\n",
       "      <th>1408</th>\n",
       "      <td>1632</td>\n",
       "      <td>1867</td>\n",
       "    </tr>\n",
       "    <tr>\n",
       "      <th>...</th>\n",
       "      <td>...</td>\n",
       "      <td>...</td>\n",
       "    </tr>\n",
       "    <tr>\n",
       "      <th>2655</th>\n",
       "      <td>114</td>\n",
       "      <td>113</td>\n",
       "    </tr>\n",
       "    <tr>\n",
       "      <th>2418</th>\n",
       "      <td>1109</td>\n",
       "      <td>1357</td>\n",
       "    </tr>\n",
       "    <tr>\n",
       "      <th>1195</th>\n",
       "      <td>2756</td>\n",
       "      <td>2832</td>\n",
       "    </tr>\n",
       "    <tr>\n",
       "      <th>3346</th>\n",
       "      <td>968</td>\n",
       "      <td>1210</td>\n",
       "    </tr>\n",
       "    <tr>\n",
       "      <th>3782</th>\n",
       "      <td>351</td>\n",
       "      <td>332</td>\n",
       "    </tr>\n",
       "  </tbody>\n",
       "</table>\n",
       "<p>795 rows × 2 columns</p>\n",
       "</div>"
      ],
      "text/plain": [
       "     Reference_I Reference_GR\n",
       "3762        2846         2918\n",
       "953          727          771\n",
       "1881        2533         2611\n",
       "1751        2253         2338\n",
       "1408        1632         1867\n",
       "...          ...          ...\n",
       "2655         114          113\n",
       "2418        1109         1357\n",
       "1195        2756         2832\n",
       "3346         968         1210\n",
       "3782         351          332\n",
       "\n",
       "[795 rows x 2 columns]"
      ]
     },
     "execution_count": 231,
     "metadata": {},
     "output_type": "execute_result"
    }
   ],
   "source": [
    "X_test"
   ]
  },
  {
   "cell_type": "code",
   "execution_count": 232,
   "id": "ae997429",
   "metadata": {},
   "outputs": [
    {
     "name": "stdout",
     "output_type": "stream",
     "text": [
      "<class 'pandas.core.frame.DataFrame'>\n",
      "Int64Index: 3180 entries, 3788 to 1061\n",
      "Data columns (total 2 columns):\n",
      " #   Column        Non-Null Count  Dtype \n",
      "---  ------        --------------  ----- \n",
      " 0   Reference_I   3180 non-null   object\n",
      " 1   Reference_GR  3180 non-null   object\n",
      "dtypes: object(2)\n",
      "memory usage: 74.5+ KB\n"
     ]
    }
   ],
   "source": [
    "X_train.info()"
   ]
  },
  {
   "cell_type": "code",
   "execution_count": 233,
   "id": "d44d93cf",
   "metadata": {},
   "outputs": [
    {
     "data": {
      "text/plain": [
       "DecisionTreeClassifier()"
      ]
     },
     "execution_count": 233,
     "metadata": {},
     "output_type": "execute_result"
    }
   ],
   "source": [
    "dtc.fit(X_train,Y_train)"
   ]
  },
  {
   "cell_type": "code",
   "execution_count": 234,
   "id": "4202b78d",
   "metadata": {},
   "outputs": [],
   "source": [
    "Y_pred=dtc.predict(X_test)"
   ]
  },
  {
   "cell_type": "code",
   "execution_count": 235,
   "id": "2a835062",
   "metadata": {},
   "outputs": [
    {
     "data": {
      "text/plain": [
       "array([ 1,  1,  1,  9,  1,  1,  1, 10,  1,  1,  6,  1,  1,  1,  1,  1,  1,\n",
       "        1, 10,  1,  1,  1,  1,  1,  4,  1,  1,  2,  1,  1,  1,  1,  9,  1,\n",
       "        1,  1,  1,  1,  1, 10,  7,  1,  1,  1,  7,  2,  1,  1,  1,  1,  1,\n",
       "        1,  1,  1,  1, 11,  1,  3, 10,  8,  1,  1,  1,  1,  1,  1,  1,  1,\n",
       "        1,  1,  1,  1,  6,  1,  1,  1, 10,  1,  7,  7,  1,  1,  1,  1,  1,\n",
       "        1,  1,  1,  2,  1,  1,  1, 10,  1,  1,  1,  1,  1,  1,  1,  1,  2,\n",
       "        1,  1,  1,  1,  1,  1,  1,  1,  1,  1,  1,  2,  7, 10,  1,  1,  1,\n",
       "       10,  1,  1,  1,  1,  1,  1,  1,  1,  1,  1,  7,  1,  1,  1,  9,  1,\n",
       "        1,  1,  1,  1,  1,  1,  1,  1,  1,  1,  1,  1,  1,  1,  1,  4,  1,\n",
       "        7,  1,  1,  7,  1,  7,  1,  1,  1,  1,  1,  1,  7,  1,  1,  1,  1,\n",
       "        7,  1,  7,  8,  1,  1,  1,  6,  7,  1,  1,  1,  1,  7,  1,  1,  1,\n",
       "        7,  2,  1,  1,  8,  7,  4,  1,  1,  1,  4,  9,  1,  1,  1,  1,  1,\n",
       "        1,  2,  1,  1,  2,  1,  6,  1,  1,  1,  1,  1,  1,  1,  1,  7,  1,\n",
       "       12,  1,  1,  1,  1, 10,  1,  9,  1,  1,  1,  1,  1,  1,  1,  1,  1,\n",
       "        1,  1,  1,  1,  1,  1,  1,  2,  1,  1,  1,  1,  1,  1,  1,  1,  1,\n",
       "        7,  1,  1,  1,  1,  1,  1,  1,  1,  1,  1,  1,  1,  1,  1,  1,  1,\n",
       "        1,  1,  1,  7,  7,  1,  1,  1,  6,  1,  1,  1,  1,  1,  4,  1,  1,\n",
       "        1,  1,  1,  1,  7,  1,  1,  1,  4,  1,  1,  1,  1,  1,  7,  1,  1,\n",
       "        1,  1,  1,  1,  1,  1,  7,  1,  7,  1,  7,  1,  1,  1,  2,  1,  1,\n",
       "        1,  1,  1,  1,  1,  1,  1,  1,  1,  1,  1,  1,  1,  9,  1,  1,  1,\n",
       "        1,  1,  1,  1,  1,  1,  1,  2,  1,  1,  7,  1,  2,  1,  1,  1,  1,\n",
       "        1,  1,  1,  1,  1,  1,  1,  1,  1,  1,  1,  1,  1,  1,  1,  1,  7,\n",
       "        1,  1,  1,  1,  1,  1,  1,  1,  1,  7,  1, 12,  1,  3,  1,  1,  1,\n",
       "        1,  1,  1,  6,  1,  1,  1,  1,  1,  1,  1,  1,  1,  1,  7,  3,  1,\n",
       "        1,  1,  7,  1,  1,  2,  2,  1,  1,  1,  1,  1,  1,  1,  1,  1,  7,\n",
       "        1,  1,  1,  1,  1,  1,  2,  1,  1,  1,  1, 10,  1,  1,  1,  1,  1,\n",
       "        1,  1,  1,  1,  1,  1,  1,  1,  1,  1,  8,  1,  1,  1,  1,  1,  1,\n",
       "        7,  1,  1,  1,  1,  1,  1,  1,  1,  6,  1,  1,  1,  1,  1,  1,  1,\n",
       "        9,  8,  1,  1,  1,  1,  1,  1,  9,  4,  1,  2,  1,  1, 10,  2,  1,\n",
       "        4,  1,  1, 10,  1,  1,  1,  1,  1,  6,  1,  1,  2,  1,  1,  1,  1,\n",
       "        1,  1,  1,  1,  7,  1,  7, 10,  1,  1,  1,  1,  1,  8,  1,  1,  1,\n",
       "        1,  7,  1,  1,  1,  1,  1,  1,  1,  1,  1,  1,  1,  7,  1,  1,  1,\n",
       "        1,  1,  1,  1,  1,  4,  1,  1,  1,  7,  9,  1,  1,  1,  1,  1,  1,\n",
       "        1,  1,  1,  1,  1,  1,  1,  1,  1,  1,  1,  4,  1, 12,  1,  7,  1,\n",
       "        1,  1,  1,  1,  1,  1, 10,  7,  4,  1,  1,  1,  1,  1,  1,  1,  1,\n",
       "        1,  1,  1,  1,  1,  1,  1,  1,  1, 10,  1,  1,  4, 10,  1,  1,  1,\n",
       "        1,  7,  1,  1,  1,  1,  2,  1,  1,  1,  1,  1, 10, 10,  1,  1,  1,\n",
       "        7,  1,  1,  1,  1,  1,  1,  1,  1,  7,  1,  1,  1,  7,  8,  1,  4,\n",
       "        1,  2,  7,  1,  7,  1,  1,  1,  1,  1,  1,  1,  1,  1,  7,  1,  1,\n",
       "        4,  1,  1,  1,  1,  1,  1,  1,  1,  1,  1,  1,  1,  1,  1,  8,  1,\n",
       "        1,  1,  1,  1,  1,  1,  1,  1,  1,  1,  1,  1,  9,  1,  1,  1,  2,\n",
       "        1,  1,  1, 12,  1,  1,  1,  1,  1,  1,  1,  1,  1,  1,  9,  1,  2,\n",
       "        1, 10,  8,  1,  1,  4,  1,  1,  1,  7,  1,  1,  1,  4,  1,  7, 10,\n",
       "        7,  1,  1,  1,  1,  7,  1,  1,  1, 10,  1,  1,  1,  1,  1,  1,  1,\n",
       "        1,  1,  1,  7,  1,  1,  1,  1,  2,  1,  1,  1,  1,  1,  1,  1,  1,\n",
       "        1,  2,  2,  1,  1,  1,  1,  1,  1,  1,  1,  1,  1,  1,  7,  1,  1,\n",
       "        1,  1,  1,  1,  1,  1, 10,  1,  1,  1,  1,  1,  1])"
      ]
     },
     "execution_count": 235,
     "metadata": {},
     "output_type": "execute_result"
    }
   ],
   "source": [
    "Y_pred"
   ]
  },
  {
   "cell_type": "code",
   "execution_count": 236,
   "id": "6f424f68",
   "metadata": {},
   "outputs": [
    {
     "data": {
      "text/plain": [
       "0.9748427672955975"
      ]
     },
     "execution_count": 236,
     "metadata": {},
     "output_type": "execute_result"
    }
   ],
   "source": [
    "from sklearn.metrics import accuracy_score\n",
    "dtc_ac=accuracy_score(Y_test,Y_pred)\n",
    "dtc_ac"
   ]
  },
  {
   "cell_type": "code",
   "execution_count": null,
   "id": "ee8c3688",
   "metadata": {},
   "outputs": [],
   "source": []
  },
  {
   "cell_type": "code",
   "execution_count": 237,
   "id": "6ef91753",
   "metadata": {},
   "outputs": [],
   "source": [
    "#K-Nearest Neighbors:\n",
    "from sklearn.neighbors import KNeighborsClassifier\n",
    "knn=KNeighborsClassifier()"
   ]
  },
  {
   "cell_type": "code",
   "execution_count": 238,
   "id": "1f7bc729",
   "metadata": {},
   "outputs": [
    {
     "data": {
      "text/plain": [
       "KNeighborsClassifier()"
      ]
     },
     "execution_count": 238,
     "metadata": {},
     "output_type": "execute_result"
    }
   ],
   "source": [
    "knn.fit(X_train,Y_train)"
   ]
  },
  {
   "cell_type": "code",
   "execution_count": 239,
   "id": "e3967f2f",
   "metadata": {},
   "outputs": [],
   "source": [
    "Y_pred=knn.predict(X_test)"
   ]
  },
  {
   "cell_type": "code",
   "execution_count": 240,
   "id": "012f03f8",
   "metadata": {},
   "outputs": [
    {
     "data": {
      "text/plain": [
       "array([ 1,  1,  1,  9,  1,  1,  1, 10,  1,  1,  2,  1,  1,  1,  1,  1,  1,\n",
       "        1, 10,  1,  1,  1,  1,  1,  4,  1,  1,  2,  1,  1,  1,  1,  9,  1,\n",
       "        1,  1,  1,  1,  1, 10,  7,  1,  1,  1,  7,  8,  1,  1,  1,  1,  1,\n",
       "        1,  1,  1,  1, 11,  1,  3, 10,  8,  1,  1,  1,  1,  1,  1,  1,  1,\n",
       "        1,  1,  1,  1,  6,  1,  1,  1, 10,  1,  7,  7,  1,  1,  1,  1,  1,\n",
       "        1,  1,  1,  1,  1,  1,  1, 10,  1,  1,  1,  1,  1,  1,  1,  1,  2,\n",
       "        1,  1,  1,  1,  1,  1,  1,  1,  1,  1,  1,  2,  7, 10,  1,  1,  1,\n",
       "       10,  1,  1,  1,  1,  1,  1,  1,  1,  1,  1,  7,  1,  1,  1,  9,  1,\n",
       "        1,  1,  1,  1,  1,  1,  1,  1,  1,  1,  1,  1,  1,  1,  1,  4,  1,\n",
       "        7,  1,  1,  7,  1,  7,  1,  1,  1,  1,  1,  1,  7,  1,  1,  1,  1,\n",
       "        1,  1,  1,  8,  1,  1,  1,  6,  7,  1,  1,  1,  1,  7,  1,  1,  1,\n",
       "        7,  2,  1,  1,  2,  7,  4,  1,  1,  1,  4,  9,  1,  1,  1,  1,  1,\n",
       "        1,  2,  1,  1,  2,  1,  6,  1,  1,  1,  1,  1,  1,  1,  1,  7,  1,\n",
       "       12,  1,  1,  1,  1, 10,  1,  9,  1,  1,  1,  1,  1,  1,  1,  1,  1,\n",
       "        1,  1,  1,  1,  1,  1,  1,  1,  1,  1,  1,  1,  1,  1,  1,  1,  1,\n",
       "        1,  1,  1,  1,  1,  1,  1,  1,  1,  1,  1,  1,  1,  1,  1,  1,  1,\n",
       "        1,  1,  1,  7,  7,  1,  1,  1,  6,  1,  1,  1,  1,  1,  4,  1,  1,\n",
       "        1,  1,  1,  1,  1,  1,  1,  1,  4,  1,  1,  1,  1,  1,  7,  1,  1,\n",
       "        1,  1,  1,  1,  1,  1,  7,  1,  7,  1,  7,  1,  1,  1,  1,  1,  1,\n",
       "        1,  1,  1,  1,  1,  1,  1,  1,  1,  1,  1,  1,  1,  9,  1,  1,  1,\n",
       "        1,  1,  1,  1,  1,  1,  1,  1,  1,  1,  7,  1,  1,  1,  1,  1,  1,\n",
       "        1,  1,  1,  1,  1,  1,  1,  1,  1,  1,  1,  1,  1,  1,  1,  1,  7,\n",
       "        1,  1,  1,  1,  1,  1,  1,  1,  1,  7,  1, 12,  1,  3,  1,  1,  1,\n",
       "        1,  1,  1,  6,  1,  1,  1,  1,  1,  1,  1,  1,  1,  1,  7,  1,  1,\n",
       "        1,  1,  7,  1,  1,  2,  2,  1,  1,  1,  1,  1,  1,  1,  1,  1,  7,\n",
       "        1,  1,  1,  1,  1,  1,  2,  1,  1,  1,  1, 10,  1,  1,  1,  1,  1,\n",
       "        1,  1,  1,  1,  1,  1,  1,  1,  1,  1,  8,  1,  1,  1,  1,  1,  1,\n",
       "        7,  1,  1,  1,  1,  1,  1,  1,  1,  6,  1,  1,  1,  1,  1,  1,  1,\n",
       "        9,  8,  1,  1,  1,  1,  1,  1,  9,  4,  1,  2,  1,  1, 10,  2,  2,\n",
       "        4,  1,  1, 10,  1,  1,  1,  1,  1,  6,  1,  1,  2,  1,  1,  1,  1,\n",
       "        1,  1,  1,  1,  7,  1,  7, 10,  1,  1,  1,  1,  1,  8,  1,  1,  1,\n",
       "        1,  1,  1,  1,  1,  1,  1,  1,  1,  1,  1,  1,  1,  7,  1,  1,  1,\n",
       "        1,  1,  1,  1,  1,  4,  1,  1,  1,  7,  9,  1,  1,  1,  1,  1,  1,\n",
       "        1,  1,  1,  1,  1,  1,  1,  1,  1,  1,  1,  4,  1, 12,  1,  7,  1,\n",
       "        1,  1,  1,  1,  1,  1, 10,  7,  4,  1,  1,  1,  1,  1,  1,  1,  1,\n",
       "        1,  1,  1,  1,  1,  1,  1,  1,  1, 10,  1,  1,  4, 10,  1,  1,  1,\n",
       "        1,  7,  1,  1,  1,  1,  2,  1,  1,  1,  1,  1, 10, 10,  1,  1,  1,\n",
       "        7,  1,  1,  1,  1,  1,  1,  1,  1,  7,  1,  1,  1,  7,  8,  1,  4,\n",
       "        1,  2, 12,  1,  7,  1,  1,  1,  1,  1,  1,  1,  1,  1,  7,  1,  1,\n",
       "        4,  1,  1,  1,  1,  1,  1,  1,  1,  1,  1,  1,  1,  1,  1,  8,  1,\n",
       "        1,  1,  1,  1,  1,  1,  1,  1,  1,  1,  1,  1,  9,  1,  1,  1,  2,\n",
       "        1,  1,  1, 12,  1,  1,  1,  1,  1,  1,  1,  1,  1,  1,  9,  1,  2,\n",
       "        1, 10, 10,  1,  1,  4,  1,  1,  1,  7,  1,  1,  1,  4,  1,  7, 10,\n",
       "        7,  1,  1,  1,  1,  7,  1,  1,  1, 10,  1,  1,  1,  1,  1,  1,  1,\n",
       "        1,  1,  1,  7,  1,  1,  1,  1,  1,  1,  1,  1,  1,  1,  1,  1,  1,\n",
       "        1,  2,  2,  1,  1,  1,  1,  1,  1,  1,  1,  1,  1,  1,  7,  1,  1,\n",
       "        1,  1,  1,  1,  1,  1, 10,  1,  1,  1,  1,  1,  1])"
      ]
     },
     "execution_count": 240,
     "metadata": {},
     "output_type": "execute_result"
    }
   ],
   "source": [
    "Y_pred"
   ]
  },
  {
   "cell_type": "code",
   "execution_count": 241,
   "id": "9f501b16",
   "metadata": {},
   "outputs": [
    {
     "data": {
      "text/plain": [
       "0.979874213836478"
      ]
     },
     "execution_count": 241,
     "metadata": {},
     "output_type": "execute_result"
    }
   ],
   "source": [
    "knn_ac=accuracy_score(Y_test,Y_pred)\n",
    "knn_ac"
   ]
  },
  {
   "cell_type": "code",
   "execution_count": null,
   "id": "9c7d9c74",
   "metadata": {},
   "outputs": [],
   "source": []
  },
  {
   "cell_type": "code",
   "execution_count": 242,
   "id": "98d6f68b",
   "metadata": {},
   "outputs": [],
   "source": [
    "# Logistic Regression:\n",
    "from sklearn.linear_model import LogisticRegression\n",
    "lr=LogisticRegression()"
   ]
  },
  {
   "cell_type": "code",
   "execution_count": 243,
   "id": "655f4387",
   "metadata": {},
   "outputs": [
    {
     "name": "stderr",
     "output_type": "stream",
     "text": [
      "C:\\Users\\sthar\\anaconda3\\lib\\site-packages\\sklearn\\linear_model\\_logistic.py:763: ConvergenceWarning: lbfgs failed to converge (status=1):\n",
      "STOP: TOTAL NO. of ITERATIONS REACHED LIMIT.\n",
      "\n",
      "Increase the number of iterations (max_iter) or scale the data as shown in:\n",
      "    https://scikit-learn.org/stable/modules/preprocessing.html\n",
      "Please also refer to the documentation for alternative solver options:\n",
      "    https://scikit-learn.org/stable/modules/linear_model.html#logistic-regression\n",
      "  n_iter_i = _check_optimize_result(\n"
     ]
    },
    {
     "data": {
      "text/plain": [
       "LogisticRegression()"
      ]
     },
     "execution_count": 243,
     "metadata": {},
     "output_type": "execute_result"
    }
   ],
   "source": [
    "lr.fit(X_train,Y_train)"
   ]
  },
  {
   "cell_type": "code",
   "execution_count": 244,
   "id": "cfd06be1",
   "metadata": {},
   "outputs": [],
   "source": [
    "Y_pred=lr.predict(X_test)"
   ]
  },
  {
   "cell_type": "code",
   "execution_count": 245,
   "id": "c9223e13",
   "metadata": {},
   "outputs": [
    {
     "data": {
      "text/plain": [
       "array([1, 1, 1, 1, 1, 1, 1, 7, 1, 1, 1, 1, 1, 1, 1, 1, 1, 1, 7, 1, 1, 1,\n",
       "       1, 1, 1, 1, 1, 7, 1, 1, 1, 1, 1, 1, 1, 1, 1, 1, 1, 7, 7, 1, 1, 1,\n",
       "       7, 1, 1, 1, 1, 1, 1, 1, 1, 1, 1, 1, 1, 1, 7, 1, 1, 1, 1, 1, 1, 1,\n",
       "       1, 1, 1, 1, 1, 1, 1, 1, 1, 1, 7, 1, 1, 7, 1, 1, 1, 1, 1, 1, 1, 1,\n",
       "       1, 1, 1, 1, 7, 1, 1, 1, 1, 1, 1, 1, 1, 7, 1, 1, 1, 1, 1, 1, 1, 1,\n",
       "       1, 1, 1, 7, 7, 4, 1, 1, 1, 7, 1, 1, 1, 1, 1, 1, 1, 1, 1, 1, 7, 1,\n",
       "       1, 1, 1, 1, 1, 1, 1, 1, 1, 1, 1, 1, 1, 1, 1, 1, 1, 1, 1, 1, 1, 1,\n",
       "       1, 1, 7, 1, 7, 1, 1, 1, 1, 1, 1, 7, 1, 1, 1, 1, 1, 1, 1, 1, 1, 1,\n",
       "       1, 1, 7, 1, 1, 1, 1, 7, 1, 1, 1, 7, 1, 1, 1, 7, 7, 1, 1, 1, 1, 1,\n",
       "       1, 1, 1, 1, 1, 1, 1, 7, 1, 1, 7, 1, 1, 1, 1, 1, 1, 1, 1, 1, 1, 7,\n",
       "       1, 1, 1, 1, 1, 1, 7, 1, 1, 1, 1, 1, 1, 1, 1, 1, 1, 1, 1, 1, 1, 1,\n",
       "       1, 1, 1, 1, 1, 1, 1, 1, 1, 1, 1, 1, 1, 1, 1, 1, 1, 1, 1, 1, 1, 1,\n",
       "       1, 1, 1, 1, 1, 1, 1, 1, 1, 1, 1, 7, 7, 1, 1, 1, 1, 1, 1, 1, 1, 1,\n",
       "       1, 1, 1, 1, 1, 1, 1, 1, 1, 1, 1, 1, 1, 1, 1, 1, 1, 7, 1, 1, 1, 1,\n",
       "       1, 1, 1, 1, 7, 1, 7, 1, 7, 1, 1, 1, 1, 1, 1, 1, 1, 1, 1, 1, 1, 1,\n",
       "       1, 1, 1, 1, 1, 1, 1, 1, 1, 1, 1, 1, 1, 1, 1, 1, 1, 1, 1, 1, 7, 1,\n",
       "       1, 1, 1, 1, 1, 1, 1, 1, 1, 1, 1, 1, 1, 1, 1, 1, 1, 1, 1, 1, 1, 7,\n",
       "       1, 1, 1, 1, 1, 1, 1, 1, 1, 7, 1, 1, 1, 1, 1, 1, 1, 1, 1, 1, 1, 1,\n",
       "       1, 1, 1, 1, 1, 1, 1, 1, 1, 7, 1, 1, 1, 1, 7, 1, 1, 1, 1, 1, 1, 1,\n",
       "       1, 1, 1, 1, 1, 1, 7, 1, 1, 1, 1, 1, 1, 7, 1, 1, 1, 1, 7, 1, 1, 1,\n",
       "       1, 1, 1, 1, 1, 1, 1, 1, 1, 1, 1, 1, 1, 1, 1, 1, 1, 1, 1, 7, 1, 1,\n",
       "       1, 1, 1, 1, 1, 1, 1, 1, 1, 1, 1, 1, 1, 1, 1, 1, 1, 1, 1, 1, 1, 1,\n",
       "       1, 1, 1, 1, 1, 1, 7, 1, 1, 1, 1, 1, 7, 1, 1, 1, 1, 1, 1, 1, 1, 1,\n",
       "       1, 1, 1, 1, 1, 1, 1, 1, 7, 1, 7, 7, 1, 1, 1, 1, 1, 1, 1, 1, 1, 1,\n",
       "       1, 1, 1, 1, 1, 1, 1, 1, 1, 1, 1, 1, 1, 1, 1, 1, 1, 1, 1, 1, 1, 1,\n",
       "       1, 1, 1, 7, 1, 1, 1, 1, 1, 1, 1, 1, 1, 1, 1, 1, 1, 1, 1, 1, 1, 1,\n",
       "       1, 1, 1, 1, 7, 1, 1, 1, 1, 1, 1, 1, 4, 7, 1, 1, 1, 1, 1, 1, 1, 1,\n",
       "       1, 1, 1, 1, 1, 1, 1, 1, 1, 1, 4, 1, 1, 1, 7, 1, 1, 1, 1, 7, 1, 1,\n",
       "       1, 1, 1, 1, 1, 1, 1, 1, 7, 7, 1, 1, 1, 7, 1, 1, 1, 1, 1, 1, 1, 1,\n",
       "       7, 1, 1, 1, 7, 1, 1, 1, 1, 7, 1, 1, 7, 1, 1, 1, 1, 1, 1, 1, 1, 1,\n",
       "       7, 1, 1, 1, 1, 1, 1, 1, 1, 1, 1, 1, 1, 1, 1, 1, 1, 1, 1, 1, 1, 1,\n",
       "       1, 1, 1, 1, 1, 1, 1, 1, 1, 1, 1, 1, 1, 1, 1, 1, 1, 1, 1, 1, 1, 1,\n",
       "       1, 1, 1, 1, 1, 1, 1, 1, 1, 1, 1, 7, 7, 1, 1, 1, 1, 1, 1, 7, 1, 1,\n",
       "       1, 1, 1, 7, 4, 7, 1, 1, 1, 1, 7, 1, 1, 1, 7, 1, 1, 1, 1, 1, 1, 1,\n",
       "       1, 1, 1, 7, 1, 1, 1, 1, 4, 1, 1, 1, 1, 1, 1, 1, 1, 1, 1, 1, 1, 1,\n",
       "       1, 1, 1, 1, 1, 1, 1, 1, 1, 1, 1, 1, 1, 1, 1, 1, 1, 1, 7, 1, 1, 1,\n",
       "       1, 1, 1])"
      ]
     },
     "execution_count": 245,
     "metadata": {},
     "output_type": "execute_result"
    }
   ],
   "source": [
    "Y_pred"
   ]
  },
  {
   "cell_type": "code",
   "execution_count": 246,
   "id": "b5208f47",
   "metadata": {},
   "outputs": [
    {
     "data": {
      "text/plain": [
       "0.8654088050314466"
      ]
     },
     "execution_count": 246,
     "metadata": {},
     "output_type": "execute_result"
    }
   ],
   "source": [
    "lr_ac=accuracy_score(Y_test,Y_pred)\n",
    "lr_ac"
   ]
  },
  {
   "cell_type": "code",
   "execution_count": 247,
   "id": "99d9ebbd",
   "metadata": {},
   "outputs": [
    {
     "data": {
      "image/png": "[encoded data removed]",
      "text/plain": [
       "<Figure size 432x288 with 1 Axes>"
      ]
     },
     "metadata": {
      "needs_background": "light"
     },
     "output_type": "display_data"
    }
   ],
   "source": [
    "import matplotlib.pyplot as plt\n",
    "plt.bar(x=['dtc','knn','lr'],height=[dtc_ac,knn_ac,lr_ac],color = 'lightblue')\n",
    "plt.xlabel(\"Algorithms\")\n",
    "plt.ylabel(\"Accuracy Score\")\n",
    "plt.show()"
   ]
  },
  {
   "cell_type": "code",
   "execution_count": null,
   "id": "56767f0f",
   "metadata": {},
   "outputs": [],
   "source": []
  },
  {
   "cell_type": "code",
   "execution_count": null,
   "id": "88584683",
   "metadata": {},
   "outputs": [],
   "source": []
  }
 ],
 "metadata": {
  "kernelspec": {
   "display_name": "Python 3",
   "language": "python",
   "name": "python3"
  },
  "language_info": {
   "codemirror_mode": {
    "name": "ipython",
    "version": 3
   },
   "file_extension": ".py",
   "mimetype": "text/x-python",
   "name": "python",
   "nbconvert_exporter": "python",
   "pygments_lexer": "ipython3",
   "version": "3.8.8"
  }
 },
 "nbformat": 4,
 "nbformat_minor": 5
}
