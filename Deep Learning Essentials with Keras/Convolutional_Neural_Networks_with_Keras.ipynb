{
 "cells": [
  {
   "cell_type": "code",
   "execution_count": 2,
   "id": "ff53e7dc",
   "metadata": {},
   "outputs": [],
   "source": [
    "import keras\n",
    "from keras.models import Sequential\n",
    "from keras.layers import Dense\n",
    "from tensorflow.keras.utils import to_categorical"
   ]
  },
  {
   "cell_type": "code",
   "execution_count": 3,
   "id": "ac8b5379",
   "metadata": {},
   "outputs": [],
   "source": [
    "from keras.layers.convolutional import Conv2D # to add convolutional layers\n",
    "from keras.layers.convolutional import MaxPooling2D # to add pooling layers\n",
    "from keras.layers import Flatten # to flatten data for fully connected layers"
   ]
  },
  {
   "cell_type": "markdown",
   "id": "5d7b400c",
   "metadata": {},
   "source": [
    "*Convolutional Layer with One set of convolutional and pooling layers*"
   ]
  },
  {
   "cell_type": "code",
   "execution_count": 4,
   "id": "250fb573",
   "metadata": {},
   "outputs": [],
   "source": [
    "# import data\n",
    "from keras.datasets import mnist\n",
    "\n",
    "# load data\n",
    "(X_train, y_train), (X_test, y_test) = mnist.load_data()\n",
    "\n",
    "# reshape to be [samples][pixels][width][height]\n",
    "X_train = X_train.reshape(X_train.shape[0], 28, 28, 1).astype('float32')\n",
    "X_test = X_test.reshape(X_test.shape[0], 28, 28, 1).astype('float32')"
   ]
  },
  {
   "cell_type": "code",
   "execution_count": 6,
   "id": "ac5a5f1c",
   "metadata": {},
   "outputs": [],
   "source": [
    "X_train = X_train / 255 # normalize training data\n",
    "X_test = X_test / 255 # normalize test data"
   ]
  },
  {
   "cell_type": "code",
   "execution_count": 7,
   "id": "97b24c82",
   "metadata": {},
   "outputs": [],
   "source": [
    "y_train = to_categorical(y_train)\n",
    "y_test = to_categorical(y_test)\n",
    "\n",
    "num_classes = y_test.shape[1] # number of categories"
   ]
  },
  {
   "cell_type": "code",
   "execution_count": 8,
   "id": "79ec1beb",
   "metadata": {},
   "outputs": [],
   "source": [
    "def convolutional_model():\n",
    "    \n",
    "    # create model\n",
    "    model = Sequential()\n",
    "    model.add(Conv2D(16, (5, 5), strides=(1, 1), activation='relu', input_shape=(28, 28, 1)))\n",
    "    model.add(MaxPooling2D(pool_size=(2, 2), strides=(2, 2)))\n",
    "    \n",
    "    model.add(Flatten())\n",
    "    model.add(Dense(100, activation='relu'))\n",
    "    model.add(Dense(num_classes, activation='softmax'))\n",
    "    \n",
    "    # compile model\n",
    "    model.compile(optimizer='adam', loss='categorical_crossentropy',  metrics=['accuracy'])\n",
    "    return model"
   ]
  },
  {
   "cell_type": "code",
   "execution_count": 9,
   "id": "1868f80d",
   "metadata": {},
   "outputs": [
    {
     "name": "stdout",
     "output_type": "stream",
     "text": [
      "Epoch 1/10\n",
      "300/300 - 7s - loss: 1.5187 - accuracy: 0.5703 - val_loss: 0.6699 - val_accuracy: 0.8240 - 7s/epoch - 25ms/step\n",
      "Epoch 2/10\n",
      "300/300 - 8s - loss: 0.5321 - accuracy: 0.8500 - val_loss: 0.4298 - val_accuracy: 0.8800 - 8s/epoch - 25ms/step\n",
      "Epoch 3/10\n",
      "300/300 - 8s - loss: 0.4091 - accuracy: 0.8800 - val_loss: 0.3655 - val_accuracy: 0.8937 - 8s/epoch - 27ms/step\n",
      "Epoch 4/10\n",
      "300/300 - 9s - loss: 0.3634 - accuracy: 0.8925 - val_loss: 0.3360 - val_accuracy: 0.8991 - 9s/epoch - 29ms/step\n",
      "Epoch 5/10\n",
      "300/300 - 11s - loss: 0.3340 - accuracy: 0.9014 - val_loss: 0.3079 - val_accuracy: 0.9094 - 11s/epoch - 36ms/step\n",
      "Epoch 6/10\n",
      "300/300 - 12s - loss: 0.3101 - accuracy: 0.9089 - val_loss: 0.2846 - val_accuracy: 0.9175 - 12s/epoch - 40ms/step\n",
      "Epoch 7/10\n",
      "300/300 - 11s - loss: 0.2885 - accuracy: 0.9145 - val_loss: 0.2655 - val_accuracy: 0.9222 - 11s/epoch - 38ms/step\n",
      "Epoch 8/10\n",
      "300/300 - 10s - loss: 0.2694 - accuracy: 0.9212 - val_loss: 0.2482 - val_accuracy: 0.9273 - 10s/epoch - 35ms/step\n",
      "Epoch 9/10\n",
      "300/300 - 10s - loss: 0.2505 - accuracy: 0.9265 - val_loss: 0.2312 - val_accuracy: 0.9310 - 10s/epoch - 33ms/step\n",
      "Epoch 10/10\n",
      "300/300 - 10s - loss: 0.2342 - accuracy: 0.9305 - val_loss: 0.2144 - val_accuracy: 0.9386 - 10s/epoch - 34ms/step\n",
      "Accuracy: 0.9386000037193298 \n",
      " Error: 6.139999628067017\n"
     ]
    }
   ],
   "source": [
    "# build the model\n",
    "model = convolutional_model()\n",
    "\n",
    "# fit the model\n",
    "model.fit(X_train, y_train, validation_data=(X_test, y_test), epochs=10, batch_size=200, verbose=2)\n",
    "\n",
    "# evaluate the model\n",
    "scores = model.evaluate(X_test, y_test, verbose=0)\n",
    "print(\"Accuracy: {} \\n Error: {}\".format(scores[1], 100-scores[1]*100))"
   ]
  },
  {
   "cell_type": "markdown",
   "id": "2187b5ba",
   "metadata": {},
   "source": [
    "*Convolutional Layer with two sets of convolutional and pooling layers*"
   ]
  },
  {
   "cell_type": "code",
   "execution_count": 11,
   "id": "9063d488",
   "metadata": {},
   "outputs": [],
   "source": [
    "def convolutional_model():\n",
    "    \n",
    "    # create model\n",
    "    model = Sequential()\n",
    "    model.add(Conv2D(16, (5, 5), activation='relu', input_shape=(28, 28, 1)))\n",
    "    model.add(MaxPooling2D(pool_size=(2, 2), strides=(2, 2)))\n",
    "    \n",
    "    model.add(Conv2D(8, (2, 2), activation='relu'))\n",
    "    model.add(MaxPooling2D(pool_size=(2, 2), strides=(2, 2)))\n",
    "    \n",
    "    model.add(Flatten())\n",
    "    model.add(Dense(100, activation='relu'))\n",
    "    model.add(Dense(num_classes, activation='softmax'))\n",
    "    \n",
    "    # Compile model\n",
    "    model.compile(optimizer='adam', loss='categorical_crossentropy',  metrics=['accuracy'])\n",
    "    return model"
   ]
  },
  {
   "cell_type": "code",
   "execution_count": 12,
   "id": "d2c3fb8c",
   "metadata": {},
   "outputs": [
    {
     "name": "stdout",
     "output_type": "stream",
     "text": [
      "Epoch 1/10\n",
      "300/300 - 9s - loss: 1.4262 - accuracy: 0.5606 - val_loss: 0.5468 - val_accuracy: 0.8401 - 9s/epoch - 30ms/step\n",
      "Epoch 2/10\n",
      "300/300 - 9s - loss: 0.4790 - accuracy: 0.8549 - val_loss: 0.3984 - val_accuracy: 0.8786 - 9s/epoch - 29ms/step\n",
      "Epoch 3/10\n",
      "300/300 - 10s - loss: 0.3887 - accuracy: 0.8816 - val_loss: 0.3445 - val_accuracy: 0.8931 - 10s/epoch - 32ms/step\n",
      "Epoch 4/10\n",
      "300/300 - 10s - loss: 0.3458 - accuracy: 0.8943 - val_loss: 0.3097 - val_accuracy: 0.9076 - 10s/epoch - 34ms/step\n",
      "Epoch 5/10\n",
      "300/300 - 10s - loss: 0.3148 - accuracy: 0.9038 - val_loss: 0.2922 - val_accuracy: 0.9101 - 10s/epoch - 34ms/step\n",
      "Epoch 6/10\n",
      "300/300 - 10s - loss: 0.2898 - accuracy: 0.9121 - val_loss: 0.2613 - val_accuracy: 0.9186 - 10s/epoch - 34ms/step\n",
      "Epoch 7/10\n",
      "300/300 - 10s - loss: 0.2667 - accuracy: 0.9182 - val_loss: 0.2457 - val_accuracy: 0.9227 - 10s/epoch - 34ms/step\n",
      "Epoch 8/10\n",
      "300/300 - 10s - loss: 0.2518 - accuracy: 0.9222 - val_loss: 0.2341 - val_accuracy: 0.9268 - 10s/epoch - 34ms/step\n",
      "Epoch 9/10\n",
      "300/300 - 10s - loss: 0.2356 - accuracy: 0.9273 - val_loss: 0.2152 - val_accuracy: 0.9333 - 10s/epoch - 34ms/step\n",
      "Epoch 10/10\n",
      "300/300 - 10s - loss: 0.2208 - accuracy: 0.9323 - val_loss: 0.2057 - val_accuracy: 0.9355 - 10s/epoch - 34ms/step\n",
      "Accuracy: 0.9355000257492065 \n",
      " Error: 6.449997425079346\n"
     ]
    }
   ],
   "source": [
    "# build the model\n",
    "model = convolutional_model()\n",
    "\n",
    "# fit the model\n",
    "model.fit(X_train, y_train, validation_data=(X_test, y_test), epochs=10, batch_size=200, verbose=2)\n",
    "\n",
    "# evaluate the model\n",
    "scores = model.evaluate(X_test, y_test, verbose=0)\n",
    "print(\"Accuracy: {} \\n Error: {}\".format(scores[1], 100-scores[1]*100))"
   ]
  },
  {
   "cell_type": "code",
   "execution_count": null,
   "id": "16e8d905",
   "metadata": {},
   "outputs": [],
   "source": []
  }
 ],
 "metadata": {
  "kernelspec": {
   "display_name": "Python 3",
   "language": "python",
   "name": "python3"
  },
  "language_info": {
   "codemirror_mode": {
    "name": "ipython",
    "version": 3
   },
   "file_extension": ".py",
   "mimetype": "text/x-python",
   "name": "python",
   "nbconvert_exporter": "python",
   "pygments_lexer": "ipython3",
   "version": "3.8.8"
  }
 },
 "nbformat": 4,
 "nbformat_minor": 5
}
